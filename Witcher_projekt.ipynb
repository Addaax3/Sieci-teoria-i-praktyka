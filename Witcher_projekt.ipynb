{
  "nbformat": 4,
  "nbformat_minor": 0,
  "metadata": {
    "colab": {
      "name": "Witcher projekt.ipynb",
      "provenance": [],
      "collapsed_sections": [],
      "authorship_tag": "ABX9TyNacNadOsufTEAtOaKmOu4x",
      "include_colab_link": true
    },
    "kernelspec": {
      "name": "python3",
      "display_name": "Python 3"
    }
  },
  "cells": [
    {
      "cell_type": "markdown",
      "metadata": {
        "id": "view-in-github",
        "colab_type": "text"
      },
      "source": [
        "<a href=\"https://colab.research.google.com/github/Addaax3/Sieci-teoria-i-praktyka/blob/master/Witcher_projekt.ipynb\" target=\"_parent\"><img src=\"https://colab.research.google.com/assets/colab-badge.svg\" alt=\"Open In Colab\"/></a>"
      ]
    },
    {
      "cell_type": "markdown",
      "metadata": {
        "id": "JUOG82gtkwKb",
        "colab_type": "text"
      },
      "source": [
        "Należy napisać program, który poda tytuł odcinka serialu The Witcher (produkcja Netflixa z Henrym Cavillem i Anyą Chalotrą)."
      ]
    },
    {
      "cell_type": "markdown",
      "metadata": {
        "id": "uVQmipt8kWN8",
        "colab_type": "text"
      },
      "source": [
        "Wymagania:\n",
        "\n",
        "trzeba napisać własne funkcje\n",
        "numer odcinka musi być wprowadzany z klawiatury za pomocą input()\n",
        "trzeba uwzględnić dwie wersje językowe - PL i ANG (tj. użytkownik podaje numer odcinka oraz decyduje, w którym języku chce otrzymać tytuł)\n",
        "trzeba zabezpieczyć poprawność danych tj. (1) sprawdzić, czy istnieje odcinek o numerze wprowadzonym przez użytkownika, (2) sprawdzić, czy użytkownik poprawnie wybrał wersję językową - jeśli nie ma takiego odcinka lub jeśli nie ma danej wersji językowej, proszę wyświetlić komunikat, który poinformuje o tym, użytkownika\n",
        "trzeba umożliwić na życzenie użytkownika, powtórzenie procedury podania tytułu (np. Czy chcesz powtórzyć operację? T / N )\n",
        "trzeba umożliwić zakończenie programu na życzenie użytkownika (jak wyżej - T / N)"
      ]
    },
    {
      "cell_type": "markdown",
      "metadata": {
        "id": "u6V6_txglWUz",
        "colab_type": "text"
      },
      "source": [
        "1. Należy najpierw stworzyć listę zawierającą nazwy odcinków po kolei w dwóch językach\n",
        "2. za pomocą funkcji input wymienić nr odcinków i przyporządkować je do odpowiednich nazw. \n",
        "3. sprawdzić czy istnieje dany odcinek o podanym przez użytkownika numerze\n",
        "4. sprawdzić czy użytkownik poprawnie wybrał opcję językową\n",
        "5. na życzenie użytkownika zapewnić możliwość powtórzenie procedury podania tytułu \n",
        "6. Umożliwić zakończenie programu na życzenie użytkownika."
      ]
    },
    {
      "cell_type": "code",
      "metadata": {
        "colab_type": "code",
        "id": "ffNOATsKmXHD",
        "outputId": "b57d7b8f-e487-4f95-b8eb-4f33d3d26a1b",
        "colab": {
          "base_uri": "https://localhost:8080/",
          "height": 55
        }
      },
      "source": [
        "#Stworzenie słownika, w ktorym znajdują się numery odcinków i ich nazwy w polskkej wersji jezykowej\n",
        "Odcinki_PL ={1 : \"Początek końca\", 2: \"Cztery marki\", 3 : \"Zdradziecki księżyc\", 4: \"O bankoetach,bękartach i pochówkach\", 5 : \"Niespelnione pragnienia\", 6 : \"Ginące gatunki\", 7 : \"Przed upadkiem\", 8 : \"Coś więcej\"}\n",
        "#stworzenie słownika z nazwami odcinków w angielskiej wersji językowej\n",
        "Odcinki_ENG ={1 : \" The end's of beginning\",2 : \"Four marks\",3 : \" Betrayer moon\", 4 : \"About banquets, bestards and buruals\", 5 : \"Bottlwd appetites\", 6 : \" Rare species\", 7 : \"Before a fall\", 8 : \"Much more\"}\n",
        "print(Odcinki_PL)"
      ],
      "execution_count": 0,
      "outputs": [
        {
          "output_type": "stream",
          "text": [
            "{1: 'Początek końca', 2: 'Cztery marki', 3: 'Zdradziecki księżyc', 4: 'O bankoetach,bękartach i pochówkach', 5: 'Niespelnione pragnienia', 6: 'Ginące gatunki', 7: 'Przed upadkiem', 8: 'Coś więcej'}\n"
          ],
          "name": "stdout"
        }
      ]
    },
    {
      "cell_type": "code",
      "metadata": {
        "id": "x76Iwa3gq8xg",
        "colab_type": "code",
        "outputId": "8fc52dff-f6f1-4556-ef39-c0ba20d32994",
        "colab": {
          "base_uri": "https://localhost:8080/",
          "height": 55
        }
      },
      "source": [
        "Odcinki_PL.values()"
      ],
      "execution_count": 0,
      "outputs": [
        {
          "output_type": "execute_result",
          "data": {
            "text/plain": [
              "dict_values(['Początek końca', 'Cztery marki', 'Zdradziecki księżyc', 'O bankoetach,bękartach i pochówkach', 'Niespelnione pragnienia', 'Ginące gatunki', 'Przed upadkiem', 'Coś więcej'])"
            ]
          },
          "metadata": {
            "tags": []
          },
          "execution_count": 5
        }
      ]
    },
    {
      "cell_type": "code",
      "metadata": {
        "id": "z2AtT3CjtEhI",
        "colab_type": "code",
        "outputId": "2f65af6d-51ac-4b74-9a61-4fcbbe0d73d0",
        "colab": {
          "base_uri": "https://localhost:8080/",
          "height": 155
        }
      },
      "source": [
        "Odcinki_PL=\"Niespelnione pragnienia\"\n",
        "numer(key for key,value in)\n",
        "Odcinki_PL.items()if value==Odcinki_PL][0]\n",
        "print(numer)\n",
        "print(\"klucz dla wartości Niespelnione pragnienia:\",numer)\n",
        "                    \n"
      ],
      "execution_count": 0,
      "outputs": [
        {
          "output_type": "error",
          "ename": "SyntaxError",
          "evalue": "ignored",
          "traceback": [
            "\u001b[0;36m  File \u001b[0;32m\"<ipython-input-6-a0b40bb11188>\"\u001b[0;36m, line \u001b[0;32m2\u001b[0m\n\u001b[0;31m    numer(key for key,value in)\u001b[0m\n\u001b[0m                              ^\u001b[0m\n\u001b[0;31mSyntaxError\u001b[0m\u001b[0;31m:\u001b[0m invalid syntax\n"
          ]
        }
      ]
    }
  ]
}